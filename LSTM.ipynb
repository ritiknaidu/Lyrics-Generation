{
  "nbformat": 4,
  "nbformat_minor": 2,
  "metadata": {
    "colab": {
      "name": "ML Project.ipynb",
      "provenance": []
    },
    "kernelspec": {
      "name": "python3",
      "display_name": "Python 3"
    },
    "language_info": {
      "name": "python"
    }
  },
  "cells": [
    {
      "cell_type": "markdown",
      "source": [
        "# IMPORTING LIBRARIES"
      ],
      "metadata": {
        "id": "LeF5UZxf1NtL"
      }
    },
    {
      "cell_type": "code",
      "execution_count": null,
      "source": [
        "from tensorflow.keras.preprocessing.sequence import pad_sequences\r\n",
        "from tensorflow.keras.layers import Embedding, LSTM, Dense, Dropout, Bidirectional\r\n",
        "from tensorflow.keras.preprocessing.text import Tokenizer\r\n",
        "from tensorflow.keras.models import Sequential\r\n",
        "from tensorflow.keras.optimizers import Adam\r\n",
        "from tensorflow.keras import regularizers\r\n",
        "import tensorflow.keras.utils as ku\r\n",
        "import numpy as np\r\n",
        "import pandas as pd\r\n",
        "import matplotlib.pyplot as plt\r\n",
        "import tensorflow as tf"
      ],
      "outputs": [],
      "metadata": {
        "id": "4kyOrn1VY6Pl"
      }
    },
    {
      "cell_type": "markdown",
      "source": [
        "# IMPORTING DATASET"
      ],
      "metadata": {
        "id": "-E7ISdfO1UNi"
      }
    },
    {
      "cell_type": "code",
      "execution_count": null,
      "source": [
        "lyric=open('lorde.txt').read()\r\n",
        "lyric[:2000]"
      ],
      "outputs": [
        {
          "output_type": "execute_result",
          "data": {
            "application/vnd.google.colaboratory.intrinsic+json": {
              "type": "string"
            },
            "text/plain": [
              "\"Well, summer slipped us underneath her tongue\\nOur days and nights are perfumed with obsession\\nHalf of my wardrobe is on your bedroom floor\\nUse our eyes, throw our hands overboard I am your sweetheart psychopathic crush\\nDrink up your movements, still I can't get enough\\nI overthink your p-punctuation use\\nNot my fault, just a thing that my mind do A rush at the beginning\\nI get caught up, just for a minute\\nBut lover, you're the one to blame, all that you're doing\\nCan you hear the violence?\\nMegaphone to my chest Broadcast the boom boom boom boom\\nAnd make 'em all dance to it\\nBroadcast the boom boom boom boom\\nAnd make 'em all dance to it\\nBroadcast the boom boom boom boom\\nAnd make 'em all dance to it\\nBroadcast the boom boom boom boom\\nAnd make 'em all dance to it\\nBroadcast the boom boom boom boom\\nAnd make 'em all dance to it Our thing progresses, I call and you come through\\nBlow all my friendships to sit in hell with you\\nBut we're the greatest, they'll hang us in the Louvre\\nDown the back, but who cares, still the Louvre Okay I know that you are not my type (still I fall)\\nI'm just the sucker who let you fill her mind (but what about love?)\\nNothing wrong with it, supernatural\\nJust move in close to me, closer, you'll feel it coasting A rush at the beginning\\nI get caught up, just for a minute\\nBut lover, you're the one to blame, all that you're doing\\nCan you hear the violence?\\nMegaphone to my chest Broadcast the boom boom boom boom\\nAnd make 'em all dance to it\\nBroadcast the boom boom boom boom\\nAnd make 'em all dance to it\\nBroadcast the boom boom boom boom\\nAnd make 'em all dance to it\\nBroadcast the boom boom boom boom\\nAnd make 'em all dance to it\\nBroadcast the boom boom boom boom\\nAnd make 'em all dance to it Every night, I live and die\\nFeel the party to my bones\\nWatch the wasters blow the speakers\\nSpill my guts beneath the outdoor light\\nIt's just another graceless night\\nI hate the headlines and the weather\\nI'm nineteen and I'm on fire\\nBut when we're dancing I'm alright\\nIt's just a\""
            ]
          },
          "metadata": {},
          "execution_count": 3
        }
      ],
      "metadata": {
        "colab": {
          "base_uri": "https://localhost:8080/",
          "height": 122
        },
        "id": "3ldF1GiRbFvo",
        "outputId": "65a2afce-8939-4469-c60e-9c285bbb49c7"
      }
    },
    {
      "cell_type": "markdown",
      "source": [
        "# DATA PRE PROCESSING"
      ],
      "metadata": {
        "id": "tW0iuvpi1XCb"
      }
    },
    {
      "cell_type": "code",
      "execution_count": null,
      "source": [
        "corpus=lyric.lower().split('\\n')\r\n",
        "for i in range(40,60):\r\n",
        "  print(corpus[i])\r\n",
        "tokenizer = Tokenizer()\r\n",
        "tokenizer.fit_on_texts(corpus)\r\n",
        "total_words = len(tokenizer.word_index) + 1\r\n",
        "total_words"
      ],
      "outputs": [
        {
          "output_type": "stream",
          "name": "stdout",
          "text": [
            "watch the wasters blow the speakers\n",
            "spill my guts beneath the outdoor light\n",
            "it's just another graceless night\n",
            "i hate the headlines and the weather\n",
            "i'm nineteen and i'm on fire\n",
            "but when we're dancing i'm alright\n",
            "it's just another graceless night are you lost enough?\n",
            "have another drink, get lost in us\n",
            "this is how we get notorious, oh\n",
            "'cause i don't know\n",
            "if they keep tellin' me where to go\n",
            "i'll blow my brains out to the radio, oh all of the things we're taking\n",
            "'cause we are young and we're ashamed\n",
            "send us to perfect places\n",
            "all of our heroes fading\n",
            "now i can't stand to be alone\n",
            "let's go to perfect places every night, i live and die\n",
            "meet somebody, take 'em home\n",
            "let's kiss and then take off our clothes\n",
            "it's just another graceless night, 'cause all of the things we're taking\n"
          ]
        },
        {
          "output_type": "execute_result",
          "data": {
            "text/plain": [
              "1372"
            ]
          },
          "metadata": {},
          "execution_count": 4
        }
      ],
      "metadata": {
        "colab": {
          "base_uri": "https://localhost:8080/"
        },
        "id": "uvwoBh0bbMPk",
        "outputId": "ce8bb70a-3935-42ac-c071-46fe8ec7e450"
      }
    },
    {
      "cell_type": "code",
      "execution_count": null,
      "source": [
        "input_sequences = []\r\n",
        "for line in corpus:\r\n",
        "  token_list = tokenizer.texts_to_sequences([line])[0]\r\n",
        "  for i in range(1, len(token_list)):\r\n",
        "    n_gram_sequence = token_list[:i+1]\r\n",
        "    input_sequences.append(n_gram_sequence)\r\n",
        "for i in range(20):\r\n",
        "  print(input_sequences[i])"
      ],
      "outputs": [
        {
          "output_type": "stream",
          "name": "stdout",
          "text": [
            "[112, 196]\n",
            "[112, 196, 703]\n",
            "[112, 196, 703, 42]\n",
            "[112, 196, 703, 42, 568]\n",
            "[112, 196, 703, 42, 568, 180]\n",
            "[112, 196, 703, 42, 568, 180, 569]\n",
            "[22, 165]\n",
            "[22, 165, 4]\n",
            "[22, 165, 4, 181]\n",
            "[22, 165, 4, 181, 36]\n",
            "[22, 165, 4, 181, 36, 704]\n",
            "[22, 165, 4, 181, 36, 704, 21]\n",
            "[22, 165, 4, 181, 36, 704, 21, 705]\n",
            "[706, 13]\n",
            "[706, 13, 9]\n",
            "[706, 13, 9, 707]\n",
            "[706, 13, 9, 707, 40]\n",
            "[706, 13, 9, 707, 40, 27]\n",
            "[706, 13, 9, 707, 40, 27, 19]\n",
            "[706, 13, 9, 707, 40, 27, 19, 439]\n"
          ]
        }
      ],
      "metadata": {
        "colab": {
          "base_uri": "https://localhost:8080/"
        },
        "id": "HTE-HNBXbUNd",
        "outputId": "ce5a33ac-aec6-4906-c49e-1d50aca1342e"
      }
    },
    {
      "cell_type": "code",
      "execution_count": null,
      "source": [
        "max_sequence_len = max([len(x) for x in input_sequences])\r\n",
        "input_sequences = np.array(pad_sequences(input_sequences, maxlen=max_sequence_len, padding='pre'))\r\n",
        "print(max_sequence_len)\r\n",
        "print(input_sequences)"
      ],
      "outputs": [
        {
          "output_type": "stream",
          "name": "stdout",
          "text": [
            "29\n",
            "[[  0   0   0 ...   0 112 196]\n",
            " [  0   0   0 ... 112 196 703]\n",
            " [  0   0   0 ... 196 703  42]\n",
            " ...\n",
            " [  0   0   0 ... 207 140 140]\n",
            " [  0   0   0 ... 140 140 140]\n",
            " [  0   0   0 ... 140 140 140]]\n"
          ]
        }
      ],
      "metadata": {
        "colab": {
          "base_uri": "https://localhost:8080/"
        },
        "id": "jPMN9v4vbg_n",
        "outputId": "2f0308f8-6265-4388-8229-da0e19c7875c"
      }
    },
    {
      "cell_type": "markdown",
      "source": [
        "# BUILDING THE MODEL"
      ],
      "metadata": {
        "id": "EIKFZZQ21gXk"
      }
    },
    {
      "cell_type": "code",
      "execution_count": null,
      "source": [
        "model = Sequential()\r\n",
        "model.add(Embedding(1372, 160, input_length=max_sequence_len-1))\r\n",
        "model.add(Bidirectional(LSTM(200, return_sequences = True)))\r\n",
        "model.add(Dropout(0.2))\r\n",
        "model.add(LSTM(100))\r\n",
        "model.add(Dense(1372/2, activation='relu', kernel_regularizer=regularizers.l2(0.001)))\r\n",
        "model.add(Dense(1372, activation='softmax'))\r\n",
        "model.compile(loss='categorical_crossentropy', optimizer='adam', metrics=['accuracy'])\r\n",
        "print(model.summary())"
      ],
      "outputs": [
        {
          "output_type": "stream",
          "name": "stdout",
          "text": [
            "Model: \"sequential\"\n",
            "_________________________________________________________________\n",
            " Layer (type)                Output Shape              Param #   \n",
            "=================================================================\n",
            " embedding (Embedding)       (None, 28, 160)           219520    \n",
            "                                                                 \n",
            " bidirectional (Bidirectiona  (None, 28, 400)          577600    \n",
            " l)                                                              \n",
            "                                                                 \n",
            " dropout (Dropout)           (None, 28, 400)           0         \n",
            "                                                                 \n",
            " lstm_1 (LSTM)               (None, 100)               200400    \n",
            "                                                                 \n",
            " dense (Dense)               (None, 686)               69286     \n",
            "                                                                 \n",
            " dense_1 (Dense)             (None, 1372)              942564    \n",
            "                                                                 \n",
            "=================================================================\n",
            "Total params: 2,009,370\n",
            "Trainable params: 2,009,370\n",
            "Non-trainable params: 0\n",
            "_________________________________________________________________\n",
            "None\n"
          ]
        }
      ],
      "metadata": {
        "colab": {
          "base_uri": "https://localhost:8080/"
        },
        "id": "SmCSpSq2bsSS",
        "outputId": "ee72005b-0734-45cf-8a6f-4e897891f138"
      }
    },
    {
      "cell_type": "code",
      "execution_count": null,
      "source": [
        "predictors, label = input_sequences[:,:-1],input_sequences[:,-1]\r\n",
        "label = ku.to_categorical(label, num_classes=total_words)"
      ],
      "outputs": [],
      "metadata": {
        "id": "Jf8tkcru2xKV"
      }
    },
    {
      "cell_type": "markdown",
      "source": [
        "# TRAINING AND ANALYSING RESULTS\n"
      ],
      "metadata": {
        "id": "oX4mu2zY1vCE"
      }
    },
    {
      "cell_type": "code",
      "execution_count": null,
      "source": [
        "history = model.fit(predictors, label, epochs=50, verbose=1)\r\n",
        "acc = history.history['accuracy']\r\n",
        "loss = history.history['loss']\r\n",
        "epochs = range(len(acc))\r\n",
        "plt.plot(epochs, acc, 'b', label='Training accuracy')\r\n",
        "plt.title('Training accuracy')\r\n",
        "plt.figure()\r\n",
        "plt.plot(epochs, loss, 'b', label='Training Loss')\r\n",
        "plt.title('Training loss')\r\n",
        "plt.legend()\r\n",
        "plt.show()"
      ],
      "outputs": [
        {
          "output_type": "stream",
          "name": "stdout",
          "text": [
            "Epoch 1/50\n",
            "380/380 [==============================] - 78s 205ms/step - loss: 0.6499 - accuracy: 0.8683\n",
            "Epoch 2/50\n",
            "380/380 [==============================] - 78s 204ms/step - loss: 0.6645 - accuracy: 0.8621\n",
            "Epoch 3/50\n",
            "380/380 [==============================] - 77s 203ms/step - loss: 0.6299 - accuracy: 0.8720\n",
            "Epoch 4/50\n",
            "380/380 [==============================] - 77s 203ms/step - loss: 0.6186 - accuracy: 0.8741\n",
            "Epoch 5/50\n",
            "380/380 [==============================] - 77s 203ms/step - loss: 0.5951 - accuracy: 0.8764\n",
            "Epoch 6/50\n",
            "380/380 [==============================] - 77s 202ms/step - loss: 0.5835 - accuracy: 0.8785\n",
            "Epoch 7/50\n",
            "380/380 [==============================] - 77s 203ms/step - loss: 0.5827 - accuracy: 0.8770\n",
            "Epoch 8/50\n",
            "380/380 [==============================] - 77s 203ms/step - loss: 0.5721 - accuracy: 0.8805\n",
            "Epoch 9/50\n",
            "380/380 [==============================] - 77s 203ms/step - loss: 0.5791 - accuracy: 0.8782\n",
            "Epoch 10/50\n",
            "380/380 [==============================] - 77s 203ms/step - loss: 0.5619 - accuracy: 0.8829\n",
            "Epoch 11/50\n",
            "380/380 [==============================] - 77s 203ms/step - loss: 0.5549 - accuracy: 0.8824\n",
            "Epoch 12/50\n",
            "380/380 [==============================] - 77s 203ms/step - loss: 0.5390 - accuracy: 0.8859\n",
            "Epoch 13/50\n",
            "380/380 [==============================] - 77s 203ms/step - loss: 0.5395 - accuracy: 0.8854\n",
            "Epoch 14/50\n",
            "380/380 [==============================] - 77s 203ms/step - loss: 0.5494 - accuracy: 0.8807\n",
            "Epoch 15/50\n",
            "380/380 [==============================] - 77s 203ms/step - loss: 0.5329 - accuracy: 0.8845\n",
            "Epoch 16/50\n",
            "380/380 [==============================] - 77s 203ms/step - loss: 0.5292 - accuracy: 0.8838\n",
            "Epoch 17/50\n",
            "380/380 [==============================] - 77s 203ms/step - loss: 0.5180 - accuracy: 0.8858\n",
            "Epoch 18/50\n",
            "380/380 [==============================] - 79s 207ms/step - loss: 0.5210 - accuracy: 0.8851\n",
            "Epoch 19/50\n",
            "380/380 [==============================] - 77s 203ms/step - loss: 0.5166 - accuracy: 0.8863\n",
            "Epoch 20/50\n",
            "380/380 [==============================] - 78s 204ms/step - loss: 0.5075 - accuracy: 0.8879\n",
            "Epoch 21/50\n",
            "380/380 [==============================] - 77s 203ms/step - loss: 0.4987 - accuracy: 0.8871\n",
            "Epoch 22/50\n",
            "380/380 [==============================] - 77s 203ms/step - loss: 0.5102 - accuracy: 0.8860\n",
            "Epoch 23/50\n",
            "380/380 [==============================] - 77s 203ms/step - loss: 0.5315 - accuracy: 0.8821\n",
            "Epoch 24/50\n",
            "380/380 [==============================] - 77s 203ms/step - loss: 0.5231 - accuracy: 0.8831\n",
            "Epoch 25/50\n",
            "380/380 [==============================] - 77s 203ms/step - loss: 0.4965 - accuracy: 0.8883\n",
            "Epoch 26/50\n",
            "380/380 [==============================] - 77s 203ms/step - loss: 0.4789 - accuracy: 0.8938\n",
            "Epoch 27/50\n",
            "380/380 [==============================] - 77s 203ms/step - loss: 0.4774 - accuracy: 0.8889\n",
            "Epoch 28/50\n",
            "380/380 [==============================] - 77s 202ms/step - loss: 0.4745 - accuracy: 0.8935\n",
            "Epoch 29/50\n",
            "380/380 [==============================] - 77s 202ms/step - loss: 0.4679 - accuracy: 0.8904\n",
            "Epoch 30/50\n",
            "380/380 [==============================] - 77s 203ms/step - loss: 0.4635 - accuracy: 0.8932\n",
            "Epoch 31/50\n",
            "380/380 [==============================] - 77s 202ms/step - loss: 0.4619 - accuracy: 0.8907\n",
            "Epoch 32/50\n",
            "380/380 [==============================] - 77s 202ms/step - loss: 0.4568 - accuracy: 0.8922\n",
            "Epoch 33/50\n",
            "380/380 [==============================] - 77s 202ms/step - loss: 0.4775 - accuracy: 0.8871\n",
            "Epoch 34/50\n",
            "380/380 [==============================] - 77s 203ms/step - loss: 0.4546 - accuracy: 0.8916\n",
            "Epoch 35/50\n",
            "380/380 [==============================] - 77s 203ms/step - loss: 0.4536 - accuracy: 0.8921\n",
            "Epoch 36/50\n",
            "380/380 [==============================] - 77s 203ms/step - loss: 0.4537 - accuracy: 0.8918\n",
            "Epoch 37/50\n",
            "380/380 [==============================] - 77s 202ms/step - loss: 0.4632 - accuracy: 0.8910\n",
            "Epoch 38/50\n",
            "380/380 [==============================] - 77s 201ms/step - loss: 0.4505 - accuracy: 0.8929\n",
            "Epoch 39/50\n",
            "380/380 [==============================] - 76s 201ms/step - loss: 0.4429 - accuracy: 0.8945\n",
            "Epoch 40/50\n",
            "380/380 [==============================] - 77s 201ms/step - loss: 0.4436 - accuracy: 0.8906\n",
            "Epoch 41/50\n",
            "380/380 [==============================] - 77s 201ms/step - loss: 0.4381 - accuracy: 0.8933\n",
            "Epoch 42/50\n",
            "380/380 [==============================] - 77s 201ms/step - loss: 0.4284 - accuracy: 0.8932\n",
            "Epoch 43/50\n",
            "380/380 [==============================] - 77s 201ms/step - loss: 0.4364 - accuracy: 0.8928\n",
            "Epoch 44/50\n",
            "380/380 [==============================] - 76s 201ms/step - loss: 0.4415 - accuracy: 0.8911\n",
            "Epoch 45/50\n",
            "380/380 [==============================] - 76s 201ms/step - loss: 0.4310 - accuracy: 0.8924\n",
            "Epoch 46/50\n",
            "380/380 [==============================] - 76s 201ms/step - loss: 0.4221 - accuracy: 0.8960\n",
            "Epoch 47/50\n",
            "380/380 [==============================] - 76s 201ms/step - loss: 0.4366 - accuracy: 0.8912\n",
            "Epoch 48/50\n",
            "380/380 [==============================] - 76s 201ms/step - loss: 0.4340 - accuracy: 0.8934\n",
            "Epoch 49/50\n",
            "380/380 [==============================] - 76s 201ms/step - loss: 0.4394 - accuracy: 0.8897\n",
            "Epoch 50/50\n",
            "380/380 [==============================] - 77s 201ms/step - loss: 0.4187 - accuracy: 0.8945\n"
          ]
        },
        {
          "output_type": "display_data",
          "data": {
            "image/png": "[encoded data removed]",
            "text/plain": [
              "<Figure size 432x288 with 1 Axes>"
            ]
          },
          "metadata": {
            "needs_background": "light"
          }
        },
        {
          "output_type": "display_data",
          "data": {
            "image/png": "[encoded data removed]",
            "text/plain": [
              "<Figure size 432x288 with 1 Axes>"
            ]
          },
          "metadata": {
            "needs_background": "light"
          }
        }
      ],
      "metadata": {
        "colab": {
          "base_uri": "https://localhost:8080/"
        },
        "id": "LBt29p7tb08X",
        "outputId": "abe35d98-f1bf-4ae6-a54c-f3ba25226242"
      }
    },
    {
      "cell_type": "markdown",
      "source": [
        "# TESTING THE MODEL"
      ],
      "metadata": {
        "id": "rsqzyA9a2DfM"
      }
    },
    {
      "cell_type": "code",
      "execution_count": null,
      "source": [
        "next_words = 20\r\n",
        "seed_text = \"diamond in the flesh\"\r\n",
        "for _ in range(next_words):\r\n",
        "  token_list = tokenizer.texts_to_sequences([seed_text])[0]\r\n",
        "  token_list = pad_sequences([token_list], maxlen=max_sequence_len-1, padding='pre')\r\n",
        "  predicted = model.predict(token_list, verbose=0)\r\n",
        "  classes_x=np.argmax(predicted,axis=1)\r\n",
        "\r\n",
        "  output_word = \"\"\r\n",
        "  for word, index in tokenizer.word_index.items():\r\n",
        "    if (index == classes_x):\r\n",
        "      output_word = word\r\n",
        "      break\r\n",
        "  seed_text += \" \" + output_word\r\n",
        "print(seed_text)"
      ],
      "outputs": [
        {
          "output_type": "stream",
          "name": "stdout",
          "text": [
            "diamond in the flesh sings the stars there's so much down here we aren't caught up in your love affair and we'll never be\n"
          ]
        }
      ],
      "metadata": {
        "colab": {
          "base_uri": "https://localhost:8080/"
        },
        "id": "OwPjPbvptX4u",
        "outputId": "e7fe1e0f-b8f4-4ca9-fd60-a70de9bbc4ed"
      }
    }
  ]
}